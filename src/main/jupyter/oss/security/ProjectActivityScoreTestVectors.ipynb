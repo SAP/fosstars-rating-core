{
 "cells": [
  {
   "cell_type": "code",
   "execution_count": 1,
   "metadata": {},
   "outputs": [],
   "source": [
    "# this is a list of features which are used in the Project Activity Score\n",
    "features = [\n",
    "    'Number of contributors in the last three months',\n",
    "    'Number of commits in the last three months'\n",
    "]"
   ]
  },
  {
   "cell_type": "code",
   "execution_count": 2,
   "metadata": {},
   "outputs": [
    {
     "data": {
      "text/html": [
       "<div>\n",
       "<style scoped>\n",
       "    .dataframe tbody tr th:only-of-type {\n",
       "        vertical-align: middle;\n",
       "    }\n",
       "\n",
       "    .dataframe tbody tr th {\n",
       "        vertical-align: top;\n",
       "    }\n",
       "\n",
       "    .dataframe thead th {\n",
       "        text-align: right;\n",
       "    }\n",
       "</style>\n",
       "<table border=\"1\" class=\"dataframe\">\n",
       "  <thead>\n",
       "    <tr style=\"text-align: right;\">\n",
       "      <th></th>\n",
       "      <th>alias</th>\n",
       "      <th>Number of contributors in the last three months</th>\n",
       "      <th>Number of commits in the last three months</th>\n",
       "      <th>score_from</th>\n",
       "      <th>score_to</th>\n",
       "    </tr>\n",
       "  </thead>\n",
       "  <tbody>\n",
       "    <tr>\n",
       "      <th>0</th>\n",
       "      <td>test_vector_0</td>\n",
       "      <td>unknown</td>\n",
       "      <td>unknown</td>\n",
       "      <td>0.0</td>\n",
       "      <td>0.1</td>\n",
       "    </tr>\n",
       "    <tr>\n",
       "      <th>1</th>\n",
       "      <td>test_vector_1</td>\n",
       "      <td>0</td>\n",
       "      <td>0</td>\n",
       "      <td>0.0</td>\n",
       "      <td>0.5</td>\n",
       "    </tr>\n",
       "    <tr>\n",
       "      <th>2</th>\n",
       "      <td>test_vector_2</td>\n",
       "      <td>1</td>\n",
       "      <td>5</td>\n",
       "      <td>0.0</td>\n",
       "      <td>2.0</td>\n",
       "    </tr>\n",
       "    <tr>\n",
       "      <th>3</th>\n",
       "      <td>test_vector_3</td>\n",
       "      <td>3</td>\n",
       "      <td>50</td>\n",
       "      <td>1.5</td>\n",
       "      <td>3.0</td>\n",
       "    </tr>\n",
       "    <tr>\n",
       "      <th>4</th>\n",
       "      <td>test_vector_4</td>\n",
       "      <td>1</td>\n",
       "      <td>20</td>\n",
       "      <td>0.0</td>\n",
       "      <td>2.0</td>\n",
       "    </tr>\n",
       "    <tr>\n",
       "      <th>5</th>\n",
       "      <td>test_vector_5</td>\n",
       "      <td>1</td>\n",
       "      <td>200</td>\n",
       "      <td>3.0</td>\n",
       "      <td>5.0</td>\n",
       "    </tr>\n",
       "    <tr>\n",
       "      <th>6</th>\n",
       "      <td>test_vector_6</td>\n",
       "      <td>1</td>\n",
       "      <td>500</td>\n",
       "      <td>5.0</td>\n",
       "      <td>6.5</td>\n",
       "    </tr>\n",
       "    <tr>\n",
       "      <th>7</th>\n",
       "      <td>test_vector_7</td>\n",
       "      <td>20</td>\n",
       "      <td>50</td>\n",
       "      <td>5.0</td>\n",
       "      <td>6.5</td>\n",
       "    </tr>\n",
       "    <tr>\n",
       "      <th>8</th>\n",
       "      <td>test_vector_8</td>\n",
       "      <td>20</td>\n",
       "      <td>200</td>\n",
       "      <td>7.0</td>\n",
       "      <td>9.0</td>\n",
       "    </tr>\n",
       "    <tr>\n",
       "      <th>9</th>\n",
       "      <td>test_vector_9</td>\n",
       "      <td>30</td>\n",
       "      <td>400</td>\n",
       "      <td>8.0</td>\n",
       "      <td>10.0</td>\n",
       "    </tr>\n",
       "  </tbody>\n",
       "</table>\n",
       "</div>"
      ],
      "text/plain": [
       "           alias Number of contributors in the last three months  \\\n",
       "0  test_vector_0                                         unknown   \n",
       "1  test_vector_1                                               0   \n",
       "2  test_vector_2                                               1   \n",
       "3  test_vector_3                                               3   \n",
       "4  test_vector_4                                               1   \n",
       "5  test_vector_5                                               1   \n",
       "6  test_vector_6                                               1   \n",
       "7  test_vector_7                                              20   \n",
       "8  test_vector_8                                              20   \n",
       "9  test_vector_9                                              30   \n",
       "\n",
       "  Number of commits in the last three months  score_from  score_to  \n",
       "0                                    unknown         0.0       0.1  \n",
       "1                                          0         0.0       0.5  \n",
       "2                                          5         0.0       2.0  \n",
       "3                                         50         1.5       3.0  \n",
       "4                                         20         0.0       2.0  \n",
       "5                                        200         3.0       5.0  \n",
       "6                                        500         5.0       6.5  \n",
       "7                                         50         5.0       6.5  \n",
       "8                                        200         7.0       9.0  \n",
       "9                                        400         8.0      10.0  "
      ]
     },
     "execution_count": 2,
     "metadata": {},
     "output_type": "execute_result"
    }
   ],
   "source": [
    "import commons\n",
    "\n",
    "\n",
    "# load test vectors\n",
    "file = '../../../../../src/main/resources/com/sap/oss/phosphor/fosstars/model/score/oss/ProjectActivityScoreTestVectors.yml'\n",
    "test_vectors = commons.load_test_vectors_from_yaml(file, features)\n",
    "\n",
    "# print out the test vectors\n",
    "test_vectors"
   ]
  },
  {
   "cell_type": "code",
   "execution_count": 3,
   "metadata": {},
   "outputs": [
    {
     "data": {
      "image/png": "[encoded data removed]",
      "text/plain": [
       "<Figure size 1440x360 with 2 Axes>"
      ]
     },
     "metadata": {
      "needs_background": "light"
     },
     "output_type": "display_data"
    }
   ],
   "source": [
    "commons.draw_hists(features, test_vectors)"
   ]
  }
 ],
 "metadata": {
  "kernelspec": {
   "display_name": "Python 3",
   "language": "python",
   "name": "python3"
  },
  "language_info": {
   "codemirror_mode": {
    "name": "ipython",
    "version": 3
   },
   "file_extension": ".py",
   "mimetype": "text/x-python",
   "name": "python",
   "nbconvert_exporter": "python",
   "pygments_lexer": "ipython3",
   "version": "3.6.9"
  }
 },
 "nbformat": 4,
 "nbformat_minor": 2
}
