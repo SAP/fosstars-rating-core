{
 "cells": [
  {
   "cell_type": "code",
   "execution_count": 1,
   "metadata": {},
   "outputs": [],
   "source": [
    "import commons\n",
    "\n",
    "\n",
    "# this is a list of features which are used in the Project Security Awareness Score\n",
    "features = [\n",
    "    'If an open-source project has a security policy',\n",
    "    'If an open-source project has a security team'\n",
    "]\n",
    "\n",
    "class TestVector(commons.BaseTestVector):\n",
    "        \n",
    "    def __init__(self, alias = ''):\n",
    "        super().__init__(features, alias)\n",
    "\n",
    "    def has_security_policy(self, value):\n",
    "        return self.set('If an open-source project has a security policy', value)\n",
    "\n",
    "    def has_security_team(self, value):\n",
    "        return self.set('If an open-source project has a security team', value)\n",
    "\n",
    "\n",
    "test_vector_list = commons.TestVectorList(features)"
   ]
  },
  {
   "cell_type": "code",
   "execution_count": 2,
   "metadata": {},
   "outputs": [
    {
     "name": "stdout",
     "output_type": "stream",
     "text": [
      "registered: test_vector_0\n",
      "registered: test_vector_1\n",
      "registered: test_vector_2\n",
      "registered: test_vector_3\n",
      "registered: test_vector_4\n"
     ]
    }
   ],
   "source": [
    "all_unknown_values = TestVector().score_from(0.0).score_to(0.1)\n",
    "test_vector_list.register(all_unknown_values)\n",
    "\n",
    "test_vector_list.register(\n",
    "    TestVector()\n",
    "        .has_security_policy(False)\n",
    "        .has_security_team(False)\n",
    "        .score_from(0.0)\n",
    "        .score_to(1.0)\n",
    ")\n",
    "\n",
    "test_vector_list.register(\n",
    "    TestVector()\n",
    "        .has_security_policy(False)\n",
    "        .has_security_team(True)\n",
    "        .score_from(5.0)\n",
    "        .score_to(8.0)\n",
    ")\n",
    "\n",
    "test_vector_list.register(\n",
    "    TestVector()\n",
    "        .has_security_policy(True)\n",
    "        .has_security_team(False)\n",
    "        .score_from(4.0)\n",
    "        .score_to(6.0)\n",
    ")\n",
    "\n",
    "test_vector_list.register(\n",
    "    TestVector()\n",
    "        .has_security_policy(True)\n",
    "        .has_security_team(True)\n",
    "        .score_from(9.0)\n",
    "        .score_to(10.0)\n",
    ")"
   ]
  },
  {
   "cell_type": "code",
   "execution_count": 3,
   "metadata": {},
   "outputs": [],
   "source": [
    "test_vector_list.check()"
   ]
  },
  {
   "cell_type": "code",
   "execution_count": 4,
   "metadata": {},
   "outputs": [
    {
     "data": {
      "text/html": [
       "<div>\n",
       "<style scoped>\n",
       "    .dataframe tbody tr th:only-of-type {\n",
       "        vertical-align: middle;\n",
       "    }\n",
       "\n",
       "    .dataframe tbody tr th {\n",
       "        vertical-align: top;\n",
       "    }\n",
       "\n",
       "    .dataframe thead th {\n",
       "        text-align: right;\n",
       "    }\n",
       "</style>\n",
       "<table border=\"1\" class=\"dataframe\">\n",
       "  <thead>\n",
       "    <tr style=\"text-align: right;\">\n",
       "      <th></th>\n",
       "      <th>alias</th>\n",
       "      <th>score_from</th>\n",
       "      <th>score_to</th>\n",
       "      <th>label</th>\n",
       "      <th>If an open-source project has a security policy</th>\n",
       "      <th>If an open-source project has a security team</th>\n",
       "    </tr>\n",
       "  </thead>\n",
       "  <tbody>\n",
       "    <tr>\n",
       "      <th>0</th>\n",
       "      <td>test_vector_0</td>\n",
       "      <td>0.0</td>\n",
       "      <td>0.1</td>\n",
       "      <td>None</td>\n",
       "      <td>unknown</td>\n",
       "      <td>unknown</td>\n",
       "    </tr>\n",
       "    <tr>\n",
       "      <th>1</th>\n",
       "      <td>test_vector_1</td>\n",
       "      <td>0.0</td>\n",
       "      <td>1.0</td>\n",
       "      <td>None</td>\n",
       "      <td>False</td>\n",
       "      <td>False</td>\n",
       "    </tr>\n",
       "    <tr>\n",
       "      <th>2</th>\n",
       "      <td>test_vector_2</td>\n",
       "      <td>5.0</td>\n",
       "      <td>8.0</td>\n",
       "      <td>None</td>\n",
       "      <td>False</td>\n",
       "      <td>True</td>\n",
       "    </tr>\n",
       "    <tr>\n",
       "      <th>3</th>\n",
       "      <td>test_vector_3</td>\n",
       "      <td>4.0</td>\n",
       "      <td>6.0</td>\n",
       "      <td>None</td>\n",
       "      <td>True</td>\n",
       "      <td>False</td>\n",
       "    </tr>\n",
       "    <tr>\n",
       "      <th>4</th>\n",
       "      <td>test_vector_4</td>\n",
       "      <td>9.0</td>\n",
       "      <td>10.0</td>\n",
       "      <td>None</td>\n",
       "      <td>True</td>\n",
       "      <td>True</td>\n",
       "    </tr>\n",
       "  </tbody>\n",
       "</table>\n",
       "</div>"
      ],
      "text/plain": [
       "           alias  score_from  score_to label  \\\n",
       "0  test_vector_0         0.0       0.1  None   \n",
       "1  test_vector_1         0.0       1.0  None   \n",
       "2  test_vector_2         5.0       8.0  None   \n",
       "3  test_vector_3         4.0       6.0  None   \n",
       "4  test_vector_4         9.0      10.0  None   \n",
       "\n",
       "  If an open-source project has a security policy  \\\n",
       "0                                         unknown   \n",
       "1                                           False   \n",
       "2                                           False   \n",
       "3                                            True   \n",
       "4                                            True   \n",
       "\n",
       "  If an open-source project has a security team  \n",
       "0                                       unknown  \n",
       "1                                         False  \n",
       "2                                          True  \n",
       "3                                         False  \n",
       "4                                          True  "
      ]
     },
     "execution_count": 4,
     "metadata": {},
     "output_type": "execute_result"
    }
   ],
   "source": [
    "# define test vectors\n",
    "test_vectors = test_vector_list.make_data_frame()\n",
    "\n",
    "# store the test vectors to a CSV file\n",
    "filename = '../../../resources/com/sap/sgs/phosphor/fosstars/model/score/oss/ProjectSecurityAwarenessScoreTestVectors.csv'\n",
    "test_vectors.to_csv(filename)\n",
    "\n",
    "# print out the test vectors\n",
    "test_vectors"
   ]
  },
  {
   "cell_type": "code",
   "execution_count": 5,
   "metadata": {},
   "outputs": [
    {
     "data": {
      "image/png": "[encoded data removed]",
      "text/plain": [
       "<Figure size 1440x360 with 2 Axes>"
      ]
     },
     "metadata": {
      "needs_background": "light"
     },
     "output_type": "display_data"
    }
   ],
   "source": [
    "commons.draw_hists(features, test_vectors)"
   ]
  }
 ],
 "metadata": {
  "kernelspec": {
   "display_name": "Python 3",
   "language": "python",
   "name": "python3"
  },
  "language_info": {
   "codemirror_mode": {
    "name": "ipython",
    "version": 3
   },
   "file_extension": ".py",
   "mimetype": "text/x-python",
   "name": "python",
   "nbconvert_exporter": "python",
   "pygments_lexer": "ipython3",
   "version": "3.6.8"
  }
 },
 "nbformat": 4,
 "nbformat_minor": 2
}
