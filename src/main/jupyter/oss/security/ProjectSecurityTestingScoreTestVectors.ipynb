{
 "cells": [
  {
   "cell_type": "code",
   "execution_count": 1,
   "metadata": {},
   "outputs": [],
   "source": [
    "import commons\n",
    "\n",
    "\n",
    "# this is a list of features which are used in the Project Security Testing Score\n",
    "features = [\n",
    "    'If an open-source project is regularly scanned for vulnerable dependencies'\n",
    "]\n",
    "\n",
    "class TestVector(commons.BaseTestVector):\n",
    "        \n",
    "    def __init__(self, alias = ''):\n",
    "        super().__init__(features, alias)\n",
    "\n",
    "    def scans_for_vulnerable_dependencies(self, value):\n",
    "        return self.set('If an open-source project is regularly scanned for vulnerable dependencies', value)\n",
    "\n",
    "\n",
    "test_vector_list = commons.TestVectorList(features)"
   ]
  },
  {
   "cell_type": "code",
   "execution_count": 2,
   "metadata": {},
   "outputs": [
    {
     "name": "stdout",
     "output_type": "stream",
     "text": [
      "registered: test_vector_0\n",
      "registered: test_vector_1\n",
      "registered: test_vector_2\n"
     ]
    }
   ],
   "source": [
    "all_unknown_values = TestVector().score_from(0.0).score_to(0.1)\n",
    "test_vector_list.register(all_unknown_values)\n",
    "\n",
    "test_vector_list.register(\n",
    "    TestVector()\n",
    "        .scans_for_vulnerable_dependencies(False)\n",
    "        .score_from(0.0)\n",
    "        .score_to(1.0)\n",
    ")\n",
    "\n",
    "test_vector_list.register(\n",
    "    TestVector()\n",
    "        .scans_for_vulnerable_dependencies(True)\n",
    "        .score_from(9.0)\n",
    "        .score_to(10.0)\n",
    ")"
   ]
  },
  {
   "cell_type": "code",
   "execution_count": 3,
   "metadata": {},
   "outputs": [],
   "source": [
    "test_vector_list.check()"
   ]
  },
  {
   "cell_type": "code",
   "execution_count": 4,
   "metadata": {},
   "outputs": [
    {
     "data": {
      "text/html": [
       "<div>\n",
       "<style scoped>\n",
       "    .dataframe tbody tr th:only-of-type {\n",
       "        vertical-align: middle;\n",
       "    }\n",
       "\n",
       "    .dataframe tbody tr th {\n",
       "        vertical-align: top;\n",
       "    }\n",
       "\n",
       "    .dataframe thead th {\n",
       "        text-align: right;\n",
       "    }\n",
       "</style>\n",
       "<table border=\"1\" class=\"dataframe\">\n",
       "  <thead>\n",
       "    <tr style=\"text-align: right;\">\n",
       "      <th></th>\n",
       "      <th>alias</th>\n",
       "      <th>score_from</th>\n",
       "      <th>score_to</th>\n",
       "      <th>label</th>\n",
       "      <th>If an open-source project is regularly scanned for vulnerable dependencies</th>\n",
       "    </tr>\n",
       "  </thead>\n",
       "  <tbody>\n",
       "    <tr>\n",
       "      <th>0</th>\n",
       "      <td>test_vector_0</td>\n",
       "      <td>0.0</td>\n",
       "      <td>0.1</td>\n",
       "      <td>None</td>\n",
       "      <td>unknown</td>\n",
       "    </tr>\n",
       "    <tr>\n",
       "      <th>1</th>\n",
       "      <td>test_vector_1</td>\n",
       "      <td>0.0</td>\n",
       "      <td>1.0</td>\n",
       "      <td>None</td>\n",
       "      <td>False</td>\n",
       "    </tr>\n",
       "    <tr>\n",
       "      <th>2</th>\n",
       "      <td>test_vector_2</td>\n",
       "      <td>9.0</td>\n",
       "      <td>10.0</td>\n",
       "      <td>None</td>\n",
       "      <td>True</td>\n",
       "    </tr>\n",
       "  </tbody>\n",
       "</table>\n",
       "</div>"
      ],
      "text/plain": [
       "           alias  score_from  score_to label  \\\n",
       "0  test_vector_0         0.0       0.1  None   \n",
       "1  test_vector_1         0.0       1.0  None   \n",
       "2  test_vector_2         9.0      10.0  None   \n",
       "\n",
       "  If an open-source project is regularly scanned for vulnerable dependencies  \n",
       "0                                            unknown                          \n",
       "1                                              False                          \n",
       "2                                               True                          "
      ]
     },
     "execution_count": 4,
     "metadata": {},
     "output_type": "execute_result"
    }
   ],
   "source": [
    "# define test vectors\n",
    "test_vectors = test_vector_list.make_data_frame()\n",
    "\n",
    "# store the test vectors to a CSV file\n",
    "filename = '../../../resources/com/sap/sgs/phosphor/fosstars/model/score/oss/ProjectSecurityTestingScoreTestVectors.csv'\n",
    "test_vectors.to_csv(filename)\n",
    "\n",
    "# print out the test vectors\n",
    "test_vectors"
   ]
  }
 ],
 "metadata": {
  "kernelspec": {
   "display_name": "Python 3",
   "language": "python",
   "name": "python3"
  },
  "language_info": {
   "codemirror_mode": {
    "name": "ipython",
    "version": 3
   },
   "file_extension": ".py",
   "mimetype": "text/x-python",
   "name": "python",
   "nbconvert_exporter": "python",
   "pygments_lexer": "ipython3",
   "version": "3.6.8"
  }
 },
 "nbformat": 4,
 "nbformat_minor": 2
}
