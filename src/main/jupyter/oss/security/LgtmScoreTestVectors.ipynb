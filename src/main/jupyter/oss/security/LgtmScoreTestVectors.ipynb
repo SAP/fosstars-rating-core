{
 "cells": [
  {
   "cell_type": "code",
   "execution_count": 1,
   "metadata": {},
   "outputs": [],
   "source": [
    "# this is a list of features which are used in the LGTM score\n",
    "features = [\n",
    "    'If a project uses LGTM',\n",
    "    'The worst LGTM grade of a project'\n",
    "]"
   ]
  },
  {
   "cell_type": "code",
   "execution_count": 2,
   "metadata": {},
   "outputs": [
    {
     "data": {
      "text/html": [
       "<div>\n",
       "<style scoped>\n",
       "    .dataframe tbody tr th:only-of-type {\n",
       "        vertical-align: middle;\n",
       "    }\n",
       "\n",
       "    .dataframe tbody tr th {\n",
       "        vertical-align: top;\n",
       "    }\n",
       "\n",
       "    .dataframe thead th {\n",
       "        text-align: right;\n",
       "    }\n",
       "</style>\n",
       "<table border=\"1\" class=\"dataframe\">\n",
       "  <thead>\n",
       "    <tr style=\"text-align: right;\">\n",
       "      <th></th>\n",
       "      <th>alias</th>\n",
       "      <th>The worst LGTM grade of a project</th>\n",
       "      <th>If a project uses LGTM</th>\n",
       "      <th>score_from</th>\n",
       "      <th>score_to</th>\n",
       "    </tr>\n",
       "  </thead>\n",
       "  <tbody>\n",
       "    <tr>\n",
       "      <th>0</th>\n",
       "      <td>test_vector_0</td>\n",
       "      <td>unknown</td>\n",
       "      <td>unknown</td>\n",
       "      <td>0.0</td>\n",
       "      <td>1.0</td>\n",
       "    </tr>\n",
       "    <tr>\n",
       "      <th>1</th>\n",
       "      <td>test_vector_1</td>\n",
       "      <td>unknown</td>\n",
       "      <td>False</td>\n",
       "      <td>0.0</td>\n",
       "      <td>1.0</td>\n",
       "    </tr>\n",
       "    <tr>\n",
       "      <th>2</th>\n",
       "      <td>test_vector_2</td>\n",
       "      <td>E</td>\n",
       "      <td>True</td>\n",
       "      <td>1.0</td>\n",
       "      <td>3.0</td>\n",
       "    </tr>\n",
       "    <tr>\n",
       "      <th>3</th>\n",
       "      <td>test_vector_3</td>\n",
       "      <td>D</td>\n",
       "      <td>True</td>\n",
       "      <td>3.0</td>\n",
       "      <td>5.0</td>\n",
       "    </tr>\n",
       "    <tr>\n",
       "      <th>4</th>\n",
       "      <td>test_vector_4</td>\n",
       "      <td>C</td>\n",
       "      <td>True</td>\n",
       "      <td>5.0</td>\n",
       "      <td>7.0</td>\n",
       "    </tr>\n",
       "    <tr>\n",
       "      <th>5</th>\n",
       "      <td>test_vector_5</td>\n",
       "      <td>B</td>\n",
       "      <td>True</td>\n",
       "      <td>7.0</td>\n",
       "      <td>9.0</td>\n",
       "    </tr>\n",
       "    <tr>\n",
       "      <th>6</th>\n",
       "      <td>test_vector_6</td>\n",
       "      <td>A</td>\n",
       "      <td>True</td>\n",
       "      <td>9.0</td>\n",
       "      <td>10.0</td>\n",
       "    </tr>\n",
       "    <tr>\n",
       "      <th>7</th>\n",
       "      <td>test_vector_7</td>\n",
       "      <td>A+</td>\n",
       "      <td>True</td>\n",
       "      <td>9.0</td>\n",
       "      <td>10.0</td>\n",
       "    </tr>\n",
       "  </tbody>\n",
       "</table>\n",
       "</div>"
      ],
      "text/plain": [
       "           alias The worst LGTM grade of a project If a project uses LGTM  \\\n",
       "0  test_vector_0                           unknown                unknown   \n",
       "1  test_vector_1                           unknown                  False   \n",
       "2  test_vector_2                                 E                   True   \n",
       "3  test_vector_3                                 D                   True   \n",
       "4  test_vector_4                                 C                   True   \n",
       "5  test_vector_5                                 B                   True   \n",
       "6  test_vector_6                                 A                   True   \n",
       "7  test_vector_7                                A+                   True   \n",
       "\n",
       "   score_from  score_to  \n",
       "0         0.0       1.0  \n",
       "1         0.0       1.0  \n",
       "2         1.0       3.0  \n",
       "3         3.0       5.0  \n",
       "4         5.0       7.0  \n",
       "5         7.0       9.0  \n",
       "6         9.0      10.0  \n",
       "7         9.0      10.0  "
      ]
     },
     "execution_count": 2,
     "metadata": {},
     "output_type": "execute_result"
    }
   ],
   "source": [
    "import commons\n",
    "\n",
    "\n",
    "# load test vectors\n",
    "file = '../../../../../src/main/resources/com/sap/sgs/phosphor/fosstars/model/score/oss/LgtmScoreTestVectors.yml'\n",
    "test_vectors = commons.load_test_vectors_from_yaml(file, features)\n",
    "\n",
    "# print out the test vectors\n",
    "test_vectors"
   ]
  },
  {
   "cell_type": "code",
   "execution_count": 3,
   "metadata": {},
   "outputs": [
    {
     "data": {
      "image/png": "[encoded data removed]",
      "text/plain": [
       "<Figure size 1440x360 with 2 Axes>"
      ]
     },
     "metadata": {
      "needs_background": "light"
     },
     "output_type": "display_data"
    }
   ],
   "source": [
    "commons.draw_hists(features, test_vectors)"
   ]
  },
  {
   "cell_type": "code",
   "execution_count": null,
   "metadata": {},
   "outputs": [],
   "source": []
  }
 ],
 "metadata": {
  "kernelspec": {
   "display_name": "Python 3",
   "language": "python",
   "name": "python3"
  },
  "language_info": {
   "codemirror_mode": {
    "name": "ipython",
    "version": 3
   },
   "file_extension": ".py",
   "mimetype": "text/x-python",
   "name": "python",
   "nbconvert_exporter": "python",
   "pygments_lexer": "ipython3",
   "version": "3.6.9"
  }
 },
 "nbformat": 4,
 "nbformat_minor": 2
}
